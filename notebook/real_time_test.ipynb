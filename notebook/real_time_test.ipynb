{
 "cells": [
  {
   "cell_type": "markdown",
   "id": "30431070",
   "metadata": {},
   "source": [
    "#### General Steps to Follow\n",
    "\n",
    "1. Importing Packages\n",
    "2. Loading the model\n",
    "3. Preprocessing the input image\n",
    "4. Defining a verification function\n",
    "5. Getting the input and verify"
   ]
  },
  {
   "cell_type": "markdown",
   "id": "59b19a97",
   "metadata": {},
   "source": [
    "## 1) Importing Packages"
   ]
  },
  {
   "cell_type": "code",
   "execution_count": 1,
   "id": "e0f2a2a4",
   "metadata": {},
   "outputs": [],
   "source": [
    "import numpy as np\n",
    "import cv2\n",
    "import tensorflow as tf"
   ]
  },
  {
   "cell_type": "markdown",
   "id": "8ced80af",
   "metadata": {},
   "source": [
    "### ----------------------------------------------------------------------------------------------------------------------------------------------------------"
   ]
  },
  {
   "cell_type": "markdown",
   "id": "fb794eea",
   "metadata": {},
   "source": [
    "## 2) Loading the model"
   ]
  },
  {
   "cell_type": "code",
   "execution_count": 2,
   "id": "3c81f7bd",
   "metadata": {},
   "outputs": [],
   "source": [
    "model = tf.keras.models.load_model('../my data/model.h5')"
   ]
  },
  {
   "cell_type": "markdown",
   "id": "10656835",
   "metadata": {},
   "source": [
    "### ----------------------------------------------------------------------------------------------------------------------------------------------------------"
   ]
  },
  {
   "cell_type": "markdown",
   "id": "986e7850",
   "metadata": {},
   "source": [
    "## 3) Preprocessing the input image"
   ]
  },
  {
   "cell_type": "code",
   "execution_count": 3,
   "id": "183aa7c0",
   "metadata": {},
   "outputs": [],
   "source": [
    "def image_transformation(img):\n",
    "    # resizing the image to (1,100, 100, 3)\n",
    "    img = cv2.resize(img,(100,100))\n",
    "    img = img.reshape((1,100,100,3))\n",
    "    # Normalizing the image\n",
    "    img = img/255\n",
    "    \n",
    "    return img"
   ]
  },
  {
   "cell_type": "markdown",
   "id": "72c156be",
   "metadata": {},
   "source": [
    "### ----------------------------------------------------------------------------------------------------------------------------------------------------------"
   ]
  },
  {
   "cell_type": "markdown",
   "id": "02a092f7",
   "metadata": {},
   "source": [
    "## 3) Defining a verification function"
   ]
  },
  {
   "cell_type": "code",
   "execution_count": 5,
   "id": "32e08416",
   "metadata": {},
   "outputs": [],
   "source": [
    "def verify(input_image):\n",
    "    input_image = image_transformation(input_image)\n",
    "    y_hat = model.predict(input_image)\n",
    "    y_hat = tf.nn.sigmoid(y_hat)\n",
    "    if(y_hat[0] >= 0.5):\n",
    "        print(\"Happy\")\n",
    "    else:\n",
    "        print(\"Sad\")"
   ]
  },
  {
   "cell_type": "markdown",
   "id": "9abf88cc",
   "metadata": {},
   "source": [
    "### ----------------------------------------------------------------------------------------------------------------------------------------------------------"
   ]
  },
  {
   "cell_type": "markdown",
   "id": "57f6bb99",
   "metadata": {},
   "source": [
    "## 3) Getting the input and verify"
   ]
  },
  {
   "cell_type": "code",
   "execution_count": 7,
   "id": "43c48c6f",
   "metadata": {},
   "outputs": [
    {
     "name": "stdout",
     "output_type": "stream",
     "text": [
      "1/1 [==============================] - 0s 20ms/step\n",
      "Happy\n",
      "1/1 [==============================] - 0s 20ms/step\n",
      "Happy\n",
      "1/1 [==============================] - 0s 20ms/step\n",
      "Happy\n",
      "1/1 [==============================] - 0s 20ms/step\n",
      "Happy\n",
      "1/1 [==============================] - 0s 20ms/step\n",
      "Happy\n",
      "1/1 [==============================] - 0s 20ms/step\n",
      "Happy\n",
      "1/1 [==============================] - 0s 20ms/step\n",
      "Happy\n",
      "1/1 [==============================] - 0s 19ms/step\n",
      "Happy\n",
      "1/1 [==============================] - 0s 20ms/step\n",
      "Sad\n",
      "1/1 [==============================] - 0s 21ms/step\n",
      "Sad\n",
      "1/1 [==============================] - 0s 20ms/step\n",
      "Happy\n",
      "1/1 [==============================] - 0s 21ms/step\n",
      "Sad\n",
      "1/1 [==============================] - 0s 20ms/step\n",
      "Happy\n"
     ]
    }
   ],
   "source": [
    "# Establish a connection to the webcam\n",
    "cap = cv2.VideoCapture(0)\n",
    "while cap.isOpened(): \n",
    "    ret, frame = cap.read()\n",
    "    \n",
    "    # Show image back to screen\n",
    "    cv2.imshow('Image', frame)\n",
    "        \n",
    "    if cv2.waitKey(1) & 0XFF == ord('a'): \n",
    "        # Verification\n",
    "        verify(frame)\n",
    "        \n",
    "    # Breaking gracefully\n",
    "    if cv2.waitKey(1) & 0XFF == ord('q'):\n",
    "        break\n",
    "        \n",
    "# Release the webcam\n",
    "cap.release()\n",
    "# Close the image show frame\n",
    "cv2.destroyAllWindows()"
   ]
  },
  {
   "cell_type": "code",
   "execution_count": null,
   "id": "cef85ba5",
   "metadata": {},
   "outputs": [],
   "source": []
  }
 ],
 "metadata": {
  "kernelspec": {
   "display_name": "Python 3 (ipykernel)",
   "language": "python",
   "name": "python3"
  },
  "language_info": {
   "codemirror_mode": {
    "name": "ipython",
    "version": 3
   },
   "file_extension": ".py",
   "mimetype": "text/x-python",
   "name": "python",
   "nbconvert_exporter": "python",
   "pygments_lexer": "ipython3",
   "version": "3.10.12"
  }
 },
 "nbformat": 4,
 "nbformat_minor": 5
}
